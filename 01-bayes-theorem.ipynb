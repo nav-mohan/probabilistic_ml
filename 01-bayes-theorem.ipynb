{
 "cells": [
  {
   "cell_type": "markdown",
   "id": "7a950ce9-85eb-4955-afb4-21c45d033e9d",
   "metadata": {},
   "source": [
    "# Bayes' Theorem Overview\n",
    "\n",
    "This entire course will be about **Bayes' Theorem**.$ P(A|B) = \\frac{P(B|A) \\cdot P(A)}{P(B)}$\n",
    "\n",
    "Where:\n",
    "- A - hypothesis\n",
    "- B - evidence\n",
    "- P(A) - prior. In the absence of any data, what is your belief in the hypothesis?\n",
    "- P(B)- evidence. How likely was the evidence that you observed?\n",
    "- P(B|A) - likelihood. The likelihood of observing the evidence assuming the hypothesis, i.e., the fit of your data to the hypothesis.\n",
    "- P(A|B) - posterior. \n",
    "\n",
    "The evidence \\( P(B) \\) is usually expressed as: $ P(B) = P(B|A) \\cdot P(A) + P(B|\\overline{A}) \\cdot P(\\overline{A})$. This represents the sum over all possible hypotheses.\n",
    "\n",
    "#### 1. Prior P(A):\n",
    "* This represents your initial belief or knowledge about a hypothesis (or event) **before** observing any new data.\n",
    "* In Bayesian terms, the prior is the probability distribution that expresses your beliefs about the hypothesis \\( A \\) before you get any new evidence.\n",
    "* For example, if you're trying to estimate whether it will rain tomorrow, your prior could be the general historical probability of rain on any given day in your location.\n",
    "\n",
    "#### 2. Likelihood P(B|A):\n",
    "* This term represents the likelihood of observing the new evidence (\\( B \\)) given that the hypothesis (\\( A \\)) is true.\n",
    "* It tells you how probable the new data (\\( B \\)) is, assuming the hypothesis (\\( A \\)) holds. It quantifies the fit of the data to the hypothesis.\n",
    "* For example, if the hypothesis is that it will rain tomorrow, the likelihood could be the probability of observing certain weather patterns (like cloud cover or humidity) if it were actually going to rain.\n",
    "\n",
    "#### 3. Evidence P(B):\n",
    "* This is the overall probability of observing the evidence, regardless of the hypothesis.\n",
    "* It acts as a normalizing constant to ensure that the posterior probabilities sum to 1. Essentially, it’s a factor that makes the probabilities in the equation valid by ensuring they all add up properly.\n",
    "* The evidence tells you how likely the data is, across all possible hypotheses.\n",
    "\n",
    "#### 4. Posterior P(A|B):\n",
    "* This is the key result of Bayes’ theorem. It represents the updated probability of the hypothesis (\\( A \\)) after incorporating the new evidence (\\( B \\)).\n",
    "* The posterior is what you’re ultimately interested in: given the evidence, what is the updated belief or probability that the hypothesis is true?\n",
    "\n"
   ]
  },
  {
   "cell_type": "markdown",
   "id": "0f03a8de-3585-48b6-a34d-b4143d322168",
   "metadata": {},
   "source": [
    "### Bayesian Inference on Students Wearing Glasses\n",
    "\n",
    "Let:\n",
    "\n",
    "- **x** be the proportion of students who wear glasses.\n",
    "- **y** be the observation of whether a student wears glasses (`y = 1`) or not (`y = 0`).\n",
    "\n",
    "We want to compute $ P(x \\mid y)$ and we assume $P(x) = 1$ (i.e uniform distribution)\n",
    "\n",
    "The likelihoods are given by :  \n",
    "  $$\n",
    "  P(y = 0 \\mid x) = 1 - x\n",
    "  $$\n",
    "  $$\n",
    "  P(y = 1 \\mid x) = x\n",
    "  $$\n"
   ]
  },
  {
   "cell_type": "markdown",
   "id": "c87b7304-6f32-48cc-b54a-f7b298866a13",
   "metadata": {},
   "source": [
    "#### Example 1: Observe one person **not** wearing glasses ($y = 0$)\n",
    "\n",
    "$$\n",
    "P(x \\mid y = 0) = \\frac{P(y = 0 \\mid x) \\cdot P(x) }{\\int_0^1 P(y = 0 \\mid x) \\, dx}\n",
    "    = \\frac{(1 - x) \\cdot 1}{\\int_0^1 (1 - x) \\, dx} = 2 \\cdot (1-x)\n",
    "$$\n"
   ]
  },
  {
   "cell_type": "markdown",
   "id": "25c1a493-c096-4265-982f-e9be5a6d3af1",
   "metadata": {},
   "source": [
    "#### Example 2: Observe **two** people not wearing glasses ($y = 0, 0$)\n",
    "\n",
    "$$\n",
    "P(x \\mid y_1 = 0, y_2 = 0) \n",
    "    = \\frac{P(y_1=0,y_2=0 \\mid x) \\cdot P(x)}{P(y_1 = 0, y_2 = 0)} \n",
    "    = \\frac{P(y_1=0,y_2=0 \\mid x) \\cdot P(x)}{\\int_0^1 P(y_1=0,y_2=0 \\mid x) \\cdot dx} \n",
    "    = \\frac{P(y_1 = 0 \\mid x) \\cdot P(y_2=0 \\mid x) \\cdot P(x)}{\\int_0^1 P(y_1 = 0 \\mid x) \\cdot P(y_2=0 \\mid x) \\, dx}\n",
    "    = \\frac{(1 - x)^2}{\\int_0^1 (1 - x)^2 \\, dx}\n",
    "    = 3 \\cdot (1-x)^2\n",
    "$$\n",
    "\n",
    "NOTE: \n",
    "* $ P(y_1=0, y_2 = 0) \\neq P(y_1=0)\\cdot P(y_2=0) $\n",
    "* $P(y_1 = 0, y_2 = 0\\mid x) = P(y_1=0 \\mid x) \\cdot P(y_2=0 \\mid x)$\n",
    "* When we fix an $x$ it means our observations came from the same distribution. In that case the two observations are independant.\n",
    "* It is possible that $y_1$ and $y_2$ came from different distributions (perhaps we observed a student from a different university who was visiting campus)\n"
   ]
  },
  {
   "cell_type": "markdown",
   "id": "99611d36-cc86-40a7-9949-eafcba27b8a0",
   "metadata": {},
   "source": [
    "#### Example 3: Observe one person **wearing** glasses ($y = 1$)\n",
    "\n",
    "$$\n",
    "P(x \\mid y = 1) = \\frac{P(y = 1 \\mid x) \\cdot P(x)}{\\int_0^1 P(y = 1 \\mid x) \\, dx}\n",
    "    = \\frac{x}{\\int_0^1 x \\, dx} = 2 \\cdot x\n",
    "$$\n"
   ]
  },
  {
   "cell_type": "markdown",
   "id": "687ae2a6-e322-4b6d-96ee-ebd6aed4eb59",
   "metadata": {},
   "source": [
    "#### Example 4: Observe **two** people wearing glasses ($y = 1, 1$)\n",
    "\n",
    "$$\n",
    "P(x \\mid y = 1, 1) = \\frac{P(y = 1 \\mid x)^2 \\cdot P(x)}{\\int_0^1 P(y = 1 \\mid x)^2 \\, dx}\n",
    "    = \\frac{x^2}{\\int_0^1 x^2 \\, dx} = 3 \\cdot x^2\n",
    "$$\n",
    "\n"
   ]
  },
  {
   "cell_type": "markdown",
   "id": "565894ce-4562-48b1-966c-d4d885888b73",
   "metadata": {},
   "source": [
    "\n",
    "#### Example 5: Observe **one** person wearing glasses and another person not wearing glasses ($y = 0, 1$)\n",
    "\n",
    "$$\n",
    "P(x \\mid y = 0, 1) = \\frac{P(y = 0 \\mid x) \\cdot P(y=1 \\mid x)}{\\int_0^1 P(y = 0 \\mid x) \\cdot P(y=1 \\mid x) \\, dx}\n",
    "    = \\frac{x \\cdot (1-x)}{\\int_0^1 x \\cdot (1-x) \\, dx} = 1.5 \\cdot x \\cdot (1-x)\n",
    "$$\n"
   ]
  },
  {
   "cell_type": "markdown",
   "id": "1ad639b9-a643-467d-a44e-d21e5b09e71f",
   "metadata": {},
   "source": [
    "\n",
    "#### General case: Observe **N** people wearing glasses and **M** people not wearing glasses\n",
    "\n",
    "$$\n",
    "P(x \\mid y_1 = 0, y_2 = 1, ... y_{M+N} = 0) = \\frac{P(y = 0 \\mid x)^N \\cdot P(y=1 \\mid x)^M}{\\int_0^1 P(y = 0 \\mid x)^N \\cdot P(y=1 \\mid x)^M \\, dx}\n",
    "    = \\frac{x^N \\cdot (1-x)^M}{\\int_0^1 x^N \\cdot (1-x)^M \\, dx}\n",
    "$$"
   ]
  },
  {
   "cell_type": "code",
   "execution_count": null,
   "id": "60ef7758-6352-46c3-8a3c-386f1addb0d3",
   "metadata": {},
   "outputs": [],
   "source": []
  }
 ],
 "metadata": {
  "kernelspec": {
   "display_name": "Python 3 (ipykernel)",
   "language": "python",
   "name": "python3"
  },
  "language_info": {
   "codemirror_mode": {
    "name": "ipython",
    "version": 3
   },
   "file_extension": ".py",
   "mimetype": "text/x-python",
   "name": "python",
   "nbconvert_exporter": "python",
   "pygments_lexer": "ipython3",
   "version": "3.13.5"
  }
 },
 "nbformat": 4,
 "nbformat_minor": 5
}
